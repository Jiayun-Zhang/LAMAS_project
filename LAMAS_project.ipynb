{
 "cells": [
  {
   "cell_type": "code",
   "execution_count": 14,
   "id": "dd318925",
   "metadata": {},
   "outputs": [],
   "source": [
    "import numpy\n",
    "import copy\n",
    "from pygraphviz import *"
   ]
  },
  {
   "cell_type": "code",
   "execution_count": 15,
   "id": "1e01ab9a",
   "metadata": {
    "scrolled": true
   },
   "outputs": [
    {
     "name": "stdout",
     "output_type": "stream",
     "text": [
      "['Brown', 'Brown', 'Brown', 'Blue', 'Blue']\n",
      "[['Blue', 'Brown', 'Brown', 'Blue', 'Blue'], ['Brown', 'Blue', 'Brown', 'Blue', 'Blue'], ['Brown', 'Brown', 'Blue', 'Blue', 'Blue'], ['Brown', 'Brown', 'Brown', 'Brown', 'Blue'], ['Brown', 'Brown', 'Brown', 'Blue', 'Brown']]\n"
     ]
    }
   ],
   "source": [
    "brown_eyed_islander = 3\n",
    "blue_eyed_islander = 2\n",
    "\n",
    "real_world = []\n",
    "for i in range(brown_eyed_islander):\n",
    "    i += 1\n",
    "    real_world.append('Brown')\n",
    "for i in range(blue_eyed_islander):\n",
    "    i += 1\n",
    "    real_world.append('Blue')\n",
    "    \n",
    "print(real_world)\n",
    "\n",
    "all_world = []\n",
    "\n",
    "for i in range(len(real_world)):\n",
    "    world = copy.copy(real_world)\n",
    "    if real_world[i] == 'Brown':\n",
    "        world[i] = 'Blue'\n",
    "    elif real_world[i] == 'Blue':\n",
    "        world[i] = 'Brown'\n",
    "    all_world.append(world)\n",
    "\n",
    "\n",
    "print(all_world)"
   ]
  },
  {
   "cell_type": "code",
   "execution_count": 16,
   "id": "aaf42493",
   "metadata": {},
   "outputs": [],
   "source": [
    "g = AGraph(rankdir='LR',ratio='auto')\n",
    "g.add_node(tuple(real_world),style='filled',fillcolor='green')\n",
    "g.add_edge(tuple(real_world),tuple(real_world),label= 'R_all' ,dir='both') \n",
    "for i in range(len(real_world)):\n",
    "    g.add_edge(tuple(real_world),tuple(all_world[i]),label= 'R_' + str(i+1) ,dir='both') \n",
    "    g.add_edge(tuple(all_world[i]),tuple(all_world[i]),label= 'R_' + str(i+1) ,dir='both') \n",
    "g.draw('day_1.jpg',prog='dot') "
   ]
  },
  {
   "cell_type": "code",
   "execution_count": null,
   "id": "880d55b3",
   "metadata": {},
   "outputs": [],
   "source": []
  }
 ],
 "metadata": {
  "kernelspec": {
   "display_name": "Python 3",
   "language": "python",
   "name": "python3"
  },
  "language_info": {
   "codemirror_mode": {
    "name": "ipython",
    "version": 3
   },
   "file_extension": ".py",
   "mimetype": "text/x-python",
   "name": "python",
   "nbconvert_exporter": "python",
   "pygments_lexer": "ipython3",
   "version": "3.7.9"
  }
 },
 "nbformat": 4,
 "nbformat_minor": 5
}
