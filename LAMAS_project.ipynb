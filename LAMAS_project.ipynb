{
 "cells": [
  {
   "cell_type": "code",
   "execution_count": 1,
   "id": "dd318925",
   "metadata": {},
   "outputs": [],
   "source": [
    "import numpy\n",
    "import copy\n",
    "from pygraphviz import *"
   ]
  },
  {
   "cell_type": "code",
   "execution_count": 4,
   "id": "d0e4c5d5",
   "metadata": {},
   "outputs": [],
   "source": [
    "from itertools import product\n",
    "\n",
    "brown_eyed_islander = 3 #R\n",
    "blue_eyed_islander = 2  #L\n",
    "\n",
    "real_world = ''\n",
    "for i in range(brown_eyed_islander):\n",
    "    real_world += 'R'\n",
    "for i in range(blue_eyed_islander):  \n",
    "    real_world += 'L'\n",
    "\n",
    "def generate_combinations(x):\n",
    "    options = ['L', 'R']\n",
    "    combinations = [''.join(p) for p in product(options, repeat=x)]\n",
    "    return combinations\n",
    "\n",
    "num_combinations = brown_eyed_islander + blue_eyed_islander\n",
    "combinations = generate_combinations(num_combinations)"
   ]
  },
  {
   "cell_type": "code",
   "execution_count": 6,
   "id": "cdb79c96",
   "metadata": {},
   "outputs": [],
   "source": [
    "def countL(string):\n",
    "    i = 0\n",
    "    for char in string:\n",
    "        if char == 'L':\n",
    "            i += 1\n",
    "    return i"
   ]
  },
  {
   "cell_type": "code",
   "execution_count": 20,
   "id": "880d55b3",
   "metadata": {},
   "outputs": [],
   "source": [
    "g = AGraph(rankdir='LR',ratio='auto')\n",
    "g.add_node((real_world),style='filled',fillcolor='green')\n",
    "for i in range(len(combinations)):\n",
    "    g.add_node((combinations[i]),style='filled')\n",
    "    j = 1\n",
    "    for char in combinations[i]:\n",
    "        if char == 'L':\n",
    "            g.add_edge(combinations[i],combinations[i][0:j-1]+ 'R'+ combinations[i][j:],label= 'R_' + str(j) ,dir='both') \n",
    "        j+=1\n",
    "        \n",
    "g.draw('initial.jpg',prog='dot') "
   ]
  },
  {
   "cell_type": "code",
   "execution_count": 21,
   "id": "5b92bdc2",
   "metadata": {},
   "outputs": [],
   "source": [
    "for n in range(blue_eyed_islander + 1):\n",
    "    for i in range(len(combinations)):\n",
    "        l_num = 0\n",
    "        for char in combinations[i]:\n",
    "            if char == 'L':\n",
    "                l_num += 1\n",
    "        if l_num == n:\n",
    "            if combinations[i] != real_world:\n",
    "                g.remove_node(combinations[i])\n",
    "    g.draw('day_'+ str(n) + '.jpg',prog='dot') "
   ]
  },
  {
   "cell_type": "code",
   "execution_count": 37,
   "id": "bbfe1032",
   "metadata": {},
   "outputs": [
    {
     "name": "stdout",
     "output_type": "stream",
     "text": [
      "['LLLL', 'LLLR', 'LLRL', 'LLRR', 'LRLL', 'LRLR', 'LRRL', 'LRRR', 'RLLL', 'RLLR', 'RLRL', 'RLRR', 'RRLL', 'RRLR', 'RRRL', 'RRRR']\n"
     ]
    }
   ],
   "source": [
    "#with one color blind islander\n",
    "from itertools import product\n",
    "\n",
    "brown_eyed_islander = 2 #R\n",
    "blue_eyed_islander = 1 #L\n",
    "blue_eyed_bland_islander = 1 #L\n",
    "\n",
    "real_world = ''\n",
    "for i in range(brown_eyed_islander):\n",
    "    real_world += 'R'\n",
    "for i in range(blue_eyed_islander + blue_eyed_bland_islander):  \n",
    "    real_world += 'L'\n",
    "\n",
    "def generate_combinations(x):\n",
    "    options = ['L', 'R']\n",
    "    combinations = [''.join(p) for p in product(options, repeat=x)]\n",
    "    return combinations\n",
    "\n",
    "# Example usage\n",
    "num_islander = brown_eyed_islander + blue_eyed_islander + blue_eyed_bland_islander\n",
    "combinations = generate_combinations(num_islander)\n",
    "print(combinations)"
   ]
  },
  {
   "cell_type": "code",
   "execution_count": 38,
   "id": "537b5634",
   "metadata": {},
   "outputs": [],
   "source": [
    "g = AGraph(rankdir='LR',ratio='auto')\n",
    "g.add_node((real_world),style='filled',fillcolor='green')\n",
    "for i in range(len(combinations)):\n",
    "    g.add_node((combinations[i]),style='filled')\n",
    "    j = 1\n",
    "    for char in combinations[i]:            \n",
    "        if char == 'L':\n",
    "            if j == num_islander:\n",
    "                g.add_edge(combinations[i],combinations[i][0:j-1]+ 'R'+ combinations[i][j:],label= str(j),dir='both')\n",
    "            else:\n",
    "                g.add_edge(combinations[i],combinations[i][0:j-1]+ 'R'+ combinations[i][j:],label= str(j) +'&'+str(num_islander) ,dir='both')\n",
    "        j+=1\n",
    "\n",
    "g.draw('initial.jpg',prog='dot') "
   ]
  },
  {
   "cell_type": "code",
   "execution_count": 39,
   "id": "793dcc50",
   "metadata": {},
   "outputs": [
    {
     "name": "stdout",
     "output_type": "stream",
     "text": [
      "1\n"
     ]
    }
   ],
   "source": [
    "if blue_eyed_islander == 0 and blue_eyed_bland_islander == 1:\n",
    "    round = 2\n",
    "else:\n",
    "    round = blue_eyed_islander + blue_eyed_bland_islander + 1\n",
    "    \n",
    "for n in range(round):\n",
    "    for i in range(len(combinations)):\n",
    "        if combinations[i] in g:\n",
    "            l_num = countL(combinations[i])\n",
    "            \n",
    "            if combinations[i] != real_world and l_num <= n and not(combinations[i][num_islander - 1] == 'L' and l_num == 1): \n",
    "                #如果最后一个不是L的话直接remove\n",
    "                g.remove_node(combinations[i])\n",
    "                \n",
    "            if combinations[i][num_islander - 1] == 'L' and l_num == 1 and 2>n>=1: \n",
    "                #留存RRRL直到第二回合\n",
    "                print(n)\n",
    "                for j in range(len(combinations)):\n",
    "                    if(countL(combinations[j])== n+1):\n",
    "                        g.add_edge(combinations[i],combinations[j],label= str(num_islander),dir='both')\n",
    "            if combinations[i][num_islander - 1] == 'L' and l_num == 1 and n>=2 and combinations[i] in g:\n",
    "                g.remove_node(combinations[i])\n",
    "                \n",
    "            if blue_eyed_islander == 0 and blue_eyed_bland_islander == 1 and n == 1 and l_num == 2 and combinations[i][num_islander - 1] == 'R':\n",
    "                print(combinations[i])\n",
    "                g.remove_node(combinations[i])\n",
    "                \n",
    "    g.draw('day_'+ str(n) + '.jpg',prog='dot') "
   ]
  },
  {
   "cell_type": "code",
   "execution_count": 24,
   "id": "71e8e3db",
   "metadata": {},
   "outputs": [
    {
     "data": {
      "text/plain": [
       "False"
      ]
     },
     "execution_count": 24,
     "metadata": {},
     "output_type": "execute_result"
    }
   ],
   "source": [
    "'LLLL' in g"
   ]
  },
  {
   "cell_type": "code",
   "execution_count": null,
   "id": "095d5aea",
   "metadata": {},
   "outputs": [],
   "source": [
    "if blue_eyed_islander == 0 and blue_eyed_bland_islander == 1:\n",
    "    round = 2\n",
    "else:"
   ]
  }
 ],
 "metadata": {
  "kernelspec": {
   "display_name": "Python 3",
   "language": "python",
   "name": "python3"
  },
  "language_info": {
   "codemirror_mode": {
    "name": "ipython",
    "version": 3
   },
   "file_extension": ".py",
   "mimetype": "text/x-python",
   "name": "python",
   "nbconvert_exporter": "python",
   "pygments_lexer": "ipython3",
   "version": "3.7.9"
  }
 },
 "nbformat": 4,
 "nbformat_minor": 5
}
