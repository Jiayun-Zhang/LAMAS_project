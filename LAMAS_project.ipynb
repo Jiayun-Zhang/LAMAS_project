{
 "cells": [
  {
   "cell_type": "code",
   "execution_count": 2,
   "id": "dd318925",
   "metadata": {},
   "outputs": [],
   "source": [
    "import numpy\n",
    "import copy\n",
    "from pygraphviz import *"
   ]
  },
  {
   "cell_type": "code",
   "execution_count": 4,
   "id": "d0e4c5d5",
   "metadata": {},
   "outputs": [],
   "source": [
    "from itertools import product\n",
    "\n",
    "brown_eyed_islander = 3 #R\n",
    "blue_eyed_islander = 2  #L\n",
    "\n",
    "real_world = ''\n",
    "for i in range(brown_eyed_islander):\n",
    "    real_world += 'R'\n",
    "for i in range(blue_eyed_islander):  \n",
    "    real_world += 'L'\n",
    "\n",
    "def generate_combinations(x):\n",
    "    options = ['L', 'R']\n",
    "    combinations = [''.join(p) for p in product(options, repeat=x)]\n",
    "    return combinations\n",
    "\n",
    "# Example usage\n",
    "num_combinations = 5\n",
    "combinations = generate_combinations(num_combinations)"
   ]
  },
  {
   "cell_type": "code",
   "execution_count": 5,
   "id": "aaf42493",
   "metadata": {},
   "outputs": [],
   "source": [
    "g = AGraph(rankdir='LR',ratio='auto')\n",
    "g.add_node(tuple(real_world),style='filled',fillcolor='green')\n",
    "g.add_edge(tuple(real_world),tuple(real_world),label= 'R_all' ,dir='both') \n",
    "for i in range(len(real_world)):\n",
    "    g.add_edge(tuple(real_world),tuple(all_world[i]),label= 'R_' + str(i+1) ,dir='both') \n",
    "    g.add_edge(tuple(all_world[i]),tuple(all_world[i]),label= 'R_' + str(i+1) ,dir='both') \n",
    "g.draw('day_1.jpg',prog='dot') "
   ]
  },
  {
   "cell_type": "code",
   "execution_count": 20,
   "id": "880d55b3",
   "metadata": {},
   "outputs": [],
   "source": [
    "g = AGraph(rankdir='LR',ratio='auto')\n",
    "g.add_node((real_world),style='filled',fillcolor='green')\n",
    "for i in range(len(combinations)):\n",
    "    g.add_node((combinations[i]),style='filled')\n",
    "    j = 1\n",
    "    for char in combinations[i]:\n",
    "        if char == 'L':\n",
    "            g.add_edge(combinations[i],combinations[i][0:j-1]+ 'R'+ combinations[i][j:],label= 'R_' + str(j) ,dir='both') \n",
    "        j+=1\n",
    "        \n",
    "g.draw('initial.jpg',prog='dot') "
   ]
  },
  {
   "cell_type": "code",
   "execution_count": 21,
   "id": "5b92bdc2",
   "metadata": {},
   "outputs": [],
   "source": [
    "for n in range(blue_eyed_islander + 1):\n",
    "    for i in range(len(combinations)):\n",
    "        l_num = 0\n",
    "        for char in combinations[i]:\n",
    "            if char == 'L':\n",
    "                l_num += 1\n",
    "        if l_num == n:\n",
    "            if combinations[i] != real_world:\n",
    "                g.remove_node(combinations[i])\n",
    "    g.draw('day_'+ str(n) + '.jpg',prog='dot') "
   ]
  },
  {
   "cell_type": "code",
   "execution_count": null,
   "id": "bbfe1032",
   "metadata": {},
   "outputs": [],
   "source": []
  }
 ],
 "metadata": {
  "kernelspec": {
   "display_name": "Python 3",
   "language": "python",
   "name": "python3"
  },
  "language_info": {
   "codemirror_mode": {
    "name": "ipython",
    "version": 3
   },
   "file_extension": ".py",
   "mimetype": "text/x-python",
   "name": "python",
   "nbconvert_exporter": "python",
   "pygments_lexer": "ipython3",
   "version": "3.7.9"
  }
 },
 "nbformat": 4,
 "nbformat_minor": 5
}
