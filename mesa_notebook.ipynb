{
 "cells": [
  {
   "cell_type": "markdown",
   "id": "578a7231",
   "metadata": {},
   "source": [
    "## Agent & model classes"
   ]
  },
  {
   "cell_type": "markdown",
   "id": "99ec895d",
   "metadata": {},
   "source": [
    "`Islander` is an agent with brown or blue eyes. It will try to determine its own eye color at each step.\n",
    "\n",
    "`IslandModel` implements the Kripke model. At each step the agents are updated and the graph of the updated Kripke model is saved."
   ]
  },
  {
   "cell_type": "code",
   "execution_count": 201,
   "id": "d8c6772e",
   "metadata": {},
   "outputs": [],
   "source": [
    "import mesa\n",
    "import copy\n",
    "import pygraphviz as pgv\n",
    "\n",
    "from itertools import product\n",
    "from pathlib import Path\n",
    "\n",
    "\n",
    "BROWN = \"0\"\n",
    "BLUE = \"1\"\n",
    "ALL = \"2\"\n",
    "\n",
    "\n",
    "class Islander(mesa.Agent):\n",
    "    \"\"\"Islander with blue or brown eyes\"\"\"\n",
    "\n",
    "    # Initialize islander with eye color\n",
    "    def __init__(self, unique_id, model, eye_color):\n",
    "        super().__init__(unique_id, model)\n",
    "        self.eye_color = eye_color\n",
    "        self.alive = True\n",
    "\n",
    "    # Update knowledge to determine own eye color\n",
    "    def determine_eye_color(self) -> str | None:\n",
    "        w_real = self.model.w_real\n",
    "        w_possible = self.model.g.neighbors(w_real)\n",
    "        uid = self.unique_id\n",
    "        if all([w_real[uid] == w[uid] for w in w_possible]):\n",
    "            return self.eye_color\n",
    "        \n",
    "    # Agent step function called by mesa\n",
    "    def step(self):\n",
    "        if self.eye_color == BLUE:\n",
    "            self.alive = (self.determine_eye_color() == None)\n",
    "\n",
    "\n",
    "class IslandModel(mesa.Model):\n",
    "    \"\"\"Keeps track of islanders and Kripke models\"\"\"\n",
    "\n",
    "    # Initialize island grid with islanders\n",
    "    def __init__(self, n_brown, n_blue, variant):\n",
    "        self.n_brown = n_brown\n",
    "        self.n_blue = n_blue\n",
    "        self.n_agents = n_brown + n_blue\n",
    "        self.agents = []\n",
    "        self.w_real = None\n",
    "        self.w_all = None\n",
    "        self.variant = variant\n",
    "        self.g = None\n",
    "        self.img_path = Path(\"graphs\") / f\"{n_brown}x{n_blue}\"\n",
    "        self.img_path.mkdir(exist_ok=True, parents=True)\n",
    "        self.schedule = mesa.time.SimultaneousActivation(self)\n",
    "        self.data_alive = mesa.DataCollector({ALL: lambda m: m.get_alive(), \n",
    "                                              BROWN: lambda m: m.get_alive_brown(), \n",
    "                                              BLUE: lambda m: m.get_alive_blue(),\n",
    "                                            })\n",
    "        self.data_alive.collect(self)\n",
    "\n",
    "        # Create agents\n",
    "        for i in range(self.n_agents):\n",
    "            eye_color = BROWN if i < n_brown else BLUE\n",
    "            a = Islander(i, self, eye_color)\n",
    "            self.agents.append(a)\n",
    "            self.schedule.add(a)\n",
    "\n",
    "        # Create Kripke models\n",
    "        brown_eyed = [BROWN] * n_brown\n",
    "        blue_eyed = [BLUE] * n_blue\n",
    "        self.w_real = ''.join(brown_eyed + blue_eyed)\n",
    "        w_all = generate_combinations(self.n_agents)\n",
    "        self.w_all = w_all\n",
    "        \n",
    "        # Create model graph\n",
    "        g = pgv.AGraph(rankdir='LR', ratio='auto')\n",
    "        g.add_node((self.w_real), style='filled', fillcolor='green')\n",
    "        for w in self.w_all:\n",
    "            g.add_node((w),style='filled')\n",
    "            j = 1\n",
    "            for eye_color in w:\n",
    "                if eye_color == BLUE:\n",
    "                    g.add_edge(w, w[0:j-1] + BROWN + w[j:], label=f'R_{j}', dir='both') \n",
    "                j+=1\n",
    "        \n",
    "        self.g = g\n",
    "        self.draw_graph()\n",
    "\n",
    "    # Number of living agents\n",
    "    def get_alive(self):\n",
    "        return sum([1 for a in self.agents if a.alive])\n",
    "\n",
    "    # Number of living agents with brown eyes\n",
    "    def get_alive_brown(self):\n",
    "        return sum([1 for a in self.agents if (a.alive and a.eye_color == BROWN)])\n",
    "\n",
    "    # Number of living agents with blue eyes\n",
    "    def get_alive_blue(self):\n",
    "        return sum([1 for a in self.agents if (a.alive and a.eye_color == BLUE)])\n",
    "    \n",
    "    # Update model graph\n",
    "    def update_graph(self):\n",
    "        day = self.schedule.time\n",
    "        for w in self.w_all:\n",
    "            l_num = 0\n",
    "            for eye_color in w:\n",
    "                if eye_color == BLUE:\n",
    "                    l_num += 1\n",
    "            if l_num == day:\n",
    "                if w != self.w_real:\n",
    "                    self.g.remove_node(w)\n",
    "    \n",
    "    # Draw model graph\n",
    "    def draw_graph(self):\n",
    "        self.g.draw(self.img_path / f'step_{self.schedule.time:03d}.jpg', prog='dot') \n",
    "\n",
    "    # Model step function called by mesa\n",
    "    def step(self):\n",
    "        self.schedule.step()\n",
    "        self.data_alive.collect(self)\n",
    "        self.update_graph()\n",
    "        self.draw_graph()\n",
    "\n",
    "\n",
    "# Create all possible states\n",
    "def generate_combinations(n_agents):\n",
    "    options = [BROWN, BLUE]\n",
    "    return [''.join(p) for p in product(options, repeat=n_agents)]"
   ]
  },
  {
   "cell_type": "markdown",
   "id": "a033c2d5",
   "metadata": {},
   "source": [
    "## Model parameters"
   ]
  },
  {
   "cell_type": "markdown",
   "id": "0d2fe118",
   "metadata": {},
   "source": [
    "Set the number of brown- and blue-eyed islanders and select the \"default\" or \"blind\" scenario."
   ]
  },
  {
   "cell_type": "code",
   "execution_count": 202,
   "id": "6130d598",
   "metadata": {},
   "outputs": [],
   "source": [
    "N_BROWN = 3\n",
    "N_BLUE = 2\n",
    "VARIANT = \"default\""
   ]
  },
  {
   "cell_type": "markdown",
   "id": "661fc527",
   "metadata": {},
   "source": [
    "## Create model"
   ]
  },
  {
   "cell_type": "code",
   "execution_count": 203,
   "id": "77c0c35b",
   "metadata": {},
   "outputs": [],
   "source": [
    "model = IslandModel(n_brown=N_BROWN, n_blue=N_BLUE, variant=VARIANT)"
   ]
  },
  {
   "cell_type": "markdown",
   "id": "a6e112ab",
   "metadata": {},
   "source": [
    "## Run model"
   ]
  },
  {
   "cell_type": "markdown",
   "id": "759d7f8b",
   "metadata": {},
   "source": [
    "Once the blue-eyed islanders learn the color of their eyes, they will commit ritual suicide the next day."
   ]
  },
  {
   "cell_type": "code",
   "execution_count": 204,
   "id": "6844afde",
   "metadata": {},
   "outputs": [],
   "source": [
    "# Until all blue-eyed islanders are gone\n",
    "while model.get_alive_blue():\n",
    "    model.step()"
   ]
  },
  {
   "cell_type": "markdown",
   "id": "58da6652",
   "metadata": {},
   "source": [
    "## Plot results"
   ]
  },
  {
   "cell_type": "markdown",
   "id": "43991144",
   "metadata": {},
   "source": [
    "Show the number of living agents per step."
   ]
  },
  {
   "cell_type": "code",
   "execution_count": 215,
   "id": "a6dfe2d8",
   "metadata": {},
   "outputs": [],
   "source": [
    "import matplotlib.pyplot as plt\n",
    "import seaborn as sns\n",
    "\n",
    "sns.set_style(\"darkgrid\", {\"grid.color\": \".8\", \"grid.linestyle\": \":\"})"
   ]
  },
  {
   "cell_type": "code",
   "execution_count": 206,
   "id": "25a55235",
   "metadata": {},
   "outputs": [],
   "source": [
    "# Agents alive over time\n",
    "alive_all = model.data_alive.model_vars[ALL]\n",
    "alive_brown = model.data_alive.model_vars[BROWN]\n",
    "alive_blue = model.data_alive.model_vars[BLUE]\n",
    "# Correct mesa bug which sets all values to 0 at step 0\n",
    "alive_all[0] = N_BROWN + N_BLUE\n",
    "alive_brown[0] = N_BROWN\n",
    "alive_blue[0] = N_BLUE\n",
    "# x values\n",
    "steps = range(len(alive_all))"
   ]
  },
  {
   "cell_type": "code",
   "execution_count": 216,
   "id": "09ee346b",
   "metadata": {},
   "outputs": [
    {
     "data": {
      "text/plain": [
       "<matplotlib.legend.Legend at 0x7f2df5293850>"
      ]
     },
     "execution_count": 216,
     "metadata": {},
     "output_type": "execute_result"
    },
    {
     "data": {
      "image/png": "[encoded data removed]",
      "text/plain": [
       "<Figure size 640x480 with 1 Axes>"
      ]
     },
     "metadata": {},
     "output_type": "display_data"
    }
   ],
   "source": [
    "plt.plot(steps, alive_all, label=\"All\", linewidth=5, color=\"dimgray\")\n",
    "plt.plot(steps, alive_brown, label=\"Brown\", linewidth=5, color=\"chocolate\")\n",
    "plt.plot(steps, alive_blue, label=\"Blue\", linewidth=5, color=\"cornflowerblue\")\n",
    "plt.title(f\"Number of alive agents over time\\n{N_BROWN}x{N_BLUE} {VARIANT}\", fontsize=14)\n",
    "plt.ylabel(\"N agents\", fontsize=12)\n",
    "plt.xlabel(\"Time steps\", fontsize=12)\n",
    "plt.xticks(steps)\n",
    "plt.xlim(0, len(alive_all)-1)\n",
    "plt.ylim(0, (N_BROWN + N_BLUE + 1))\n",
    "plt.legend()"
   ]
  }
 ],
 "metadata": {
  "kernelspec": {
   "display_name": "Python 3 (ipykernel)",
   "language": "python",
   "name": "python3"
  },
  "language_info": {
   "codemirror_mode": {
    "name": "ipython",
    "version": 3
   },
   "file_extension": ".py",
   "mimetype": "text/x-python",
   "name": "python",
   "nbconvert_exporter": "python",
   "pygments_lexer": "ipython3",
   "version": "3.11.3"
  }
 },
 "nbformat": 4,
 "nbformat_minor": 5
}
